{
 "cells": [
  {
   "cell_type": "code",
   "execution_count": 4,
   "id": "5c72c97e",
   "metadata": {},
   "outputs": [
    {
     "name": "stdout",
     "output_type": "stream",
     "text": [
      "0 to 20 by using range:\n",
      "0\n",
      "1\n",
      "2\n",
      "3\n",
      "4\n",
      "5\n",
      "6\n",
      "7\n",
      "8\n",
      "9\n",
      "10\n",
      "11\n",
      "12\n",
      "13\n",
      "14\n",
      "15\n",
      "16\n",
      "17\n",
      "18\n",
      "19\n"
     ]
    }
   ],
   "source": [
    "print(\"0 to 20 by using range:\")\n",
    "\n",
    "for i in range (0,20):\n",
    "    print(i)"
   ]
  },
  {
   "cell_type": "code",
   "execution_count": 9,
   "id": "4e40e841",
   "metadata": {},
   "outputs": [
    {
     "name": "stdout",
     "output_type": "stream",
     "text": [
      "range 10 to 20\n",
      "10,11,12,13,14,15,16,1,18,19\n"
     ]
    }
   ],
   "source": [
    "print(\"range 10 to 20\")\n",
    "print(\"10,11,12,13,14,15,16,1,18,19\")"
   ]
  },
  {
   "cell_type": "code",
   "execution_count": 2,
   "id": "d69509ba",
   "metadata": {},
   "outputs": [
    {
     "name": "stdout",
     "output_type": "stream",
     "text": [
      "7\n"
     ]
    }
   ],
   "source": [
    "num_list=[10,20,14,55,43,87,76]\n",
    "print(len(num_list))"
   ]
  },
  {
   "cell_type": "code",
   "execution_count": 5,
   "id": "668b1d31",
   "metadata": {},
   "outputs": [
    {
     "name": "stdout",
     "output_type": "stream",
     "text": [
      "A\n",
      "r\n",
      "t\n",
      "i\n",
      "f\n",
      "i\n",
      "c\n",
      "i\n",
      "a\n",
      "l\n",
      " \n",
      "i\n",
      "n\n",
      "t\n",
      "e\n",
      "l\n",
      "l\n",
      "i\n",
      "g\n",
      "e\n",
      "n\n",
      "c\n",
      "e\n"
     ]
    }
   ],
   "source": [
    "for i in ('Artificial intelligence'):\n",
    "    print(i)\n"
   ]
  },
  {
   "cell_type": "code",
   "execution_count": 6,
   "id": "cec30595",
   "metadata": {},
   "outputs": [
    {
     "name": "stdout",
     "output_type": "stream",
     "text": [
      "-your name-\n",
      "-your age-\n",
      "-your profession\n"
     ]
    }
   ],
   "source": [
    "print(\"-your name-\")\n",
    "print(\"-your age-\")\n",
    "print(\"-your profession\")"
   ]
  },
  {
   "cell_type": "code",
   "execution_count": 12,
   "id": "62df7a50",
   "metadata": {},
   "outputs": [
    {
     "name": "stdout",
     "output_type": "stream",
     "text": [
      "20 is even\n",
      "10 is even\n",
      "16 is even\n",
      "276 is even\n",
      "19 is odd\n",
      "25 is odd\n",
      "1 is odd\n",
      "188 is even\n"
     ]
    }
   ],
   "source": [
    "list = (20,10,16,276,19,25,1,188)\n",
    "for i in list:\n",
    "    if i %2 ==1:\n",
    "        print(i,\"is odd\")\n",
    "    else:\n",
    "        print(i,\"is even\")\n"
   ]
  },
  {
   "cell_type": "code",
   "execution_count": 13,
   "id": "013122cb",
   "metadata": {},
   "outputs": [
    {
     "name": "stdout",
     "output_type": "stream",
     "text": [
      "tuple with mixed datatypes = (1, 'welcome', 2, 'hope')\n"
     ]
    }
   ],
   "source": [
    "tuples=(1,'welcome',2,'hope')\n",
    "print(\"tuple with mixed datatypes =\", tuples)"
   ]
  },
  {
   "cell_type": "code",
   "execution_count": 14,
   "id": "1beeb0f4",
   "metadata": {},
   "outputs": [
    {
     "name": "stdout",
     "output_type": "stream",
     "text": [
      "tuple with nested tuple = ((0, 1, 2, 3, 4), ('python', 'hope'))\n"
     ]
    }
   ],
   "source": [
    "tuple1=(0,1,2,3,4)\n",
    "tuple2=('python','hope')\n",
    "tuple3=(tuple1,tuple2)\n",
    "print (\"tuple with nested tuple =\",tuple3)"
   ]
  },
  {
   "cell_type": "code",
   "execution_count": 15,
   "id": "71ebd233",
   "metadata": {},
   "outputs": [
    {
     "name": "stdout",
     "output_type": "stream",
     "text": [
      "tuple with loop:\n",
      "ramya\n",
      "ramya\n",
      "ramya\n",
      "ramya\n",
      "ramya\n"
     ]
    }
   ],
   "source": [
    "tuple1= ('ramya')\n",
    "n=5\n",
    "print(\"tuple with loop:\")\n",
    "for i in range(5):\n",
    "    print (tuple1)"
   ]
  },
  {
   "cell_type": "code",
   "execution_count": 16,
   "id": "f6563a62",
   "metadata": {},
   "outputs": [
    {
     "name": "stdout",
     "output_type": "stream",
     "text": [
      "tuple with repetitions= ramya,ramya,ramya,\n"
     ]
    }
   ],
   "source": [
    "tuple1=('ramya,')*3\n",
    "print(\"tuple with repetitions=\",tuple1)"
   ]
  },
  {
   "cell_type": "code",
   "execution_count": null,
   "id": "08a8b91a",
   "metadata": {},
   "outputs": [],
   "source": []
  }
 ],
 "metadata": {
  "kernelspec": {
   "display_name": "Python 3 (ipykernel)",
   "language": "python",
   "name": "python3"
  },
  "language_info": {
   "codemirror_mode": {
    "name": "ipython",
    "version": 3
   },
   "file_extension": ".py",
   "mimetype": "text/x-python",
   "name": "python",
   "nbconvert_exporter": "python",
   "pygments_lexer": "ipython3",
   "version": "3.11.5"
  }
 },
 "nbformat": 4,
 "nbformat_minor": 5
}

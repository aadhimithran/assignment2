{
 "cells": [
  {
   "cell_type": "code",
   "execution_count": 13,
   "id": "1d18dcec",
   "metadata": {},
   "outputs": [
    {
     "name": "stdout",
     "output_type": "stream",
     "text": [
      "sub-fields AI are:\n",
      "machine learning\n",
      "neural network\n",
      "vision\n",
      "rootics\n",
      "speech processing\n",
      "natural language processing\n"
     ]
    }
   ],
   "source": [
    "class subfieldsinAI:\n",
    "      def subfileds():    \n",
    "        print(\"sub-fields AI are:\")\n",
    "        list=['machine learning','neural network','vision','rootics','speech processing',\n",
    "              'natural language processing']\n",
    "        for i in list:\n",
    "            print(i)\n",
    "subfieldsinAI.subfileds()        "
   ]
  },
  {
   "cell_type": "code",
   "execution_count": 1,
   "id": "a0b1d1f5",
   "metadata": {},
   "outputs": [
    {
     "name": "stdout",
     "output_type": "stream",
     "text": [
      "enter the number52452\n",
      "52452 is even number\n"
     ]
    }
   ],
   "source": [
    "class oddevennum:\n",
    "    def oddeven():\n",
    "        number=int(input(\"enter the number\"))\n",
    "        if(number%2==0):\n",
    "            print(\"52452 is even number\")\n",
    "        else:\n",
    "            print(\"52452 is odd number\")\n",
    "oddevennum.oddeven() "
   ]
  },
  {
   "cell_type": "code",
   "execution_count": 2,
   "id": "b2cdc24a",
   "metadata": {},
   "outputs": [
    {
     "name": "stdout",
     "output_type": "stream",
     "text": [
      "enter your gender=male\n",
      "enter your age=18\n",
      "your not elegible for marriage\n"
     ]
    }
   ],
   "source": [
    "class elegibilityformarriaage:\n",
    "    def ageelegible():\n",
    "        a=str(input(\"enter your gender=\"))\n",
    "        age=int(input(\"enter your age=\"))\n",
    "        if (age<21):\n",
    "            print(\"your not elegible for marriage\")\n",
    "        elif(age<18 ):\n",
    "            print(\"your not elegible for marriage\")\n",
    "        else:\n",
    "            print(\"you are elegible for marriage\")\n",
    "elegibilityformarriaage.ageelegible() "
   ]
  },
  {
   "cell_type": "code",
   "execution_count": 18,
   "id": "833402c2",
   "metadata": {},
   "outputs": [
    {
     "name": "stdout",
     "output_type": "stream",
     "text": [
      "sub1=98\n",
      "sub2=87\n",
      "sub3=95\n",
      "sub4=95\n",
      "sub5=93\n",
      "total subject mark= 468\n",
      "percent= 93.60000000000001\n"
     ]
    }
   ],
   "source": [
    "class findpercentage:\n",
    "    def percentage():\n",
    "        sub1=int(input(\"sub1=\"))\n",
    "        sub2=int(input(\"sub2=\"))\n",
    "        sub3=int(input(\"sub3=\"))\n",
    "        sub4=int(input(\"sub4=\"))\n",
    "        sub5=int(input(\"sub5=\"))\n",
    "        total=(sub1+sub2+sub3+sub4+sub5)\n",
    "        print(\"total subject mark=\",total)\n",
    "        print(\"percent=\" ,(total/500)*100)\n",
    "    \n",
    "findpercentage.percentage()"
   ]
  },
  {
   "cell_type": "code",
   "execution_count": 21,
   "id": "43257ac6",
   "metadata": {},
   "outputs": [
    {
     "name": "stdout",
     "output_type": "stream",
     "text": [
      "Area of Triangle= 544.0\n",
      "height1:2\n",
      "height2:4\n",
      "breadth:4\n",
      "perimeter of triangle= 10\n"
     ]
    }
   ],
   "source": [
    "class shapes:\n",
    "    def triangle():\n",
    "        height=32\n",
    "        breadth=34\n",
    "        area=(height*breadth)/2\n",
    "        print(\"Area of Triangle=\",area)\n",
    "        height1=int(input(\"height1:\"))\n",
    "        height2=int(input(\"height2:\"))\n",
    "        breadth=int(input(\"breadth:\")) \n",
    "        formula=(height1+height2+breadth)\n",
    "        print(\"perimeter of triangle=\",formula)\n",
    "shapes.triangle() "
   ]
  },
  {
   "cell_type": "code",
   "execution_count": null,
   "id": "13b8581c",
   "metadata": {},
   "outputs": [],
   "source": []
  }
 ],
 "metadata": {
  "kernelspec": {
   "display_name": "Python 3 (ipykernel)",
   "language": "python",
   "name": "python3"
  },
  "language_info": {
   "codemirror_mode": {
    "name": "ipython",
    "version": 3
   },
   "file_extension": ".py",
   "mimetype": "text/x-python",
   "name": "python",
   "nbconvert_exporter": "python",
   "pygments_lexer": "ipython3",
   "version": "3.11.5"
  }
 },
 "nbformat": 4,
 "nbformat_minor": 5
}

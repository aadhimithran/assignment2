{
 "cells": [
  {
   "cell_type": "code",
   "execution_count": 1,
   "id": "697bb9cc",
   "metadata": {},
   "outputs": [],
   "source": [
    "from classlibrary import multiplefunctions"
   ]
  },
  {
   "cell_type": "code",
   "execution_count": 3,
   "id": "f954c8a8",
   "metadata": {},
   "outputs": [
    {
     "name": "stdout",
     "output_type": "stream",
     "text": [
      "enter the number52452\n",
      "52452 is even number\n"
     ]
    },
    {
     "data": {
      "text/plain": [
       "'even number'"
      ]
     },
     "execution_count": 3,
     "metadata": {},
     "output_type": "execute_result"
    }
   ],
   "source": [
    "multiplefunctions.oddeven()"
   ]
  },
  {
   "cell_type": "code",
   "execution_count": 4,
   "id": "396425a5",
   "metadata": {},
   "outputs": [
    {
     "name": "stdout",
     "output_type": "stream",
     "text": [
      "sub-fields AI are:\n",
      "machine learning\n",
      "neural network\n",
      "vision\n",
      "rootics\n",
      "speech processing\n",
      "natural language processing\n"
     ]
    },
    {
     "data": {
      "text/plain": [
       "['machine learning',\n",
       " 'neural network',\n",
       " 'vision',\n",
       " 'rootics',\n",
       " 'speech processing',\n",
       " 'natural language processing']"
      ]
     },
     "execution_count": 4,
     "metadata": {},
     "output_type": "execute_result"
    }
   ],
   "source": [
    "multiplefunctions.subfileds()"
   ]
  },
  {
   "cell_type": "code",
   "execution_count": null,
   "id": "6503a2b9",
   "metadata": {},
   "outputs": [],
   "source": []
  }
 ],
 "metadata": {
  "kernelspec": {
   "display_name": "Python 3 (ipykernel)",
   "language": "python",
   "name": "python3"
  },
  "language_info": {
   "codemirror_mode": {
    "name": "ipython",
    "version": 3
   },
   "file_extension": ".py",
   "mimetype": "text/x-python",
   "name": "python",
   "nbconvert_exporter": "python",
   "pygments_lexer": "ipython3",
   "version": "3.11.5"
  }
 },
 "nbformat": 4,
 "nbformat_minor": 5
}
